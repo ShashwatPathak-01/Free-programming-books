{
 "cells": [
  {
   "cell_type": "code",
   "execution_count": 15,
   "id": "9af9d39f-96da-4996-87bb-2530472db452",
   "metadata": {},
   "outputs": [
    {
     "data": {
      "text/html": [
       "<div>\n",
       "<style scoped>\n",
       "    .dataframe tbody tr th:only-of-type {\n",
       "        vertical-align: middle;\n",
       "    }\n",
       "\n",
       "    .dataframe tbody tr th {\n",
       "        vertical-align: top;\n",
       "    }\n",
       "\n",
       "    .dataframe thead th {\n",
       "        text-align: right;\n",
       "    }\n",
       "</style>\n",
       "<table border=\"1\" class=\"dataframe\">\n",
       "  <thead>\n",
       "    <tr style=\"text-align: right;\">\n",
       "      <th></th>\n",
       "      <th>InvoiceNo</th>\n",
       "      <th>StockCode</th>\n",
       "      <th>Description</th>\n",
       "      <th>Quantity</th>\n",
       "      <th>InvoiceDate</th>\n",
       "      <th>UnitPrice</th>\n",
       "      <th>CustomerID</th>\n",
       "      <th>Country</th>\n",
       "      <th>Discount</th>\n",
       "      <th>PaymentMethod</th>\n",
       "      <th>ShippingCost</th>\n",
       "      <th>Category</th>\n",
       "      <th>SalesChannel</th>\n",
       "      <th>ReturnStatus</th>\n",
       "      <th>ShipmentProvider</th>\n",
       "      <th>WarehouseLocation</th>\n",
       "      <th>OrderPriority</th>\n",
       "    </tr>\n",
       "  </thead>\n",
       "  <tbody>\n",
       "    <tr>\n",
       "      <th>0</th>\n",
       "      <td>221958</td>\n",
       "      <td>SKU_1964</td>\n",
       "      <td>White Mug</td>\n",
       "      <td>38</td>\n",
       "      <td>2020-01-01 00:00</td>\n",
       "      <td>1.71</td>\n",
       "      <td>37039.0</td>\n",
       "      <td>Australia</td>\n",
       "      <td>0.470000</td>\n",
       "      <td>Bank Transfer</td>\n",
       "      <td>10.79</td>\n",
       "      <td>Apparel</td>\n",
       "      <td>In-store</td>\n",
       "      <td>Not Returned</td>\n",
       "      <td>UPS</td>\n",
       "      <td>London</td>\n",
       "      <td>Medium</td>\n",
       "    </tr>\n",
       "    <tr>\n",
       "      <th>1</th>\n",
       "      <td>771155</td>\n",
       "      <td>SKU_1241</td>\n",
       "      <td>White Mug</td>\n",
       "      <td>18</td>\n",
       "      <td>2020-01-01 01:00</td>\n",
       "      <td>41.25</td>\n",
       "      <td>19144.0</td>\n",
       "      <td>Spain</td>\n",
       "      <td>0.190000</td>\n",
       "      <td>paypall</td>\n",
       "      <td>9.51</td>\n",
       "      <td>Electronics</td>\n",
       "      <td>Online</td>\n",
       "      <td>Not Returned</td>\n",
       "      <td>UPS</td>\n",
       "      <td>Rome</td>\n",
       "      <td>Medium</td>\n",
       "    </tr>\n",
       "    <tr>\n",
       "      <th>2</th>\n",
       "      <td>231932</td>\n",
       "      <td>SKU_1501</td>\n",
       "      <td>Headphones</td>\n",
       "      <td>49</td>\n",
       "      <td>2020-01-01 02:00</td>\n",
       "      <td>29.11</td>\n",
       "      <td>50472.0</td>\n",
       "      <td>Germany</td>\n",
       "      <td>0.350000</td>\n",
       "      <td>Bank Transfer</td>\n",
       "      <td>23.03</td>\n",
       "      <td>Electronics</td>\n",
       "      <td>Online</td>\n",
       "      <td>Returned</td>\n",
       "      <td>UPS</td>\n",
       "      <td>Berlin</td>\n",
       "      <td>High</td>\n",
       "    </tr>\n",
       "    <tr>\n",
       "      <th>3</th>\n",
       "      <td>465838</td>\n",
       "      <td>SKU_1760</td>\n",
       "      <td>Desk Lamp</td>\n",
       "      <td>14</td>\n",
       "      <td>2020-01-01 03:00</td>\n",
       "      <td>76.68</td>\n",
       "      <td>96586.0</td>\n",
       "      <td>Netherlands</td>\n",
       "      <td>0.140000</td>\n",
       "      <td>paypall</td>\n",
       "      <td>11.08</td>\n",
       "      <td>Accessories</td>\n",
       "      <td>Online</td>\n",
       "      <td>Not Returned</td>\n",
       "      <td>Royal Mail</td>\n",
       "      <td>Rome</td>\n",
       "      <td>Low</td>\n",
       "    </tr>\n",
       "    <tr>\n",
       "      <th>4</th>\n",
       "      <td>359178</td>\n",
       "      <td>SKU_1386</td>\n",
       "      <td>USB Cable</td>\n",
       "      <td>-30</td>\n",
       "      <td>2020-01-01 04:00</td>\n",
       "      <td>-68.11</td>\n",
       "      <td>NaN</td>\n",
       "      <td>United Kingdom</td>\n",
       "      <td>1.501433</td>\n",
       "      <td>Bank Transfer</td>\n",
       "      <td>NaN</td>\n",
       "      <td>Electronics</td>\n",
       "      <td>In-store</td>\n",
       "      <td>Not Returned</td>\n",
       "      <td>FedEx</td>\n",
       "      <td>NaN</td>\n",
       "      <td>Medium</td>\n",
       "    </tr>\n",
       "  </tbody>\n",
       "</table>\n",
       "</div>"
      ],
      "text/plain": [
       "   InvoiceNo StockCode Description  Quantity       InvoiceDate  UnitPrice  \\\n",
       "0     221958  SKU_1964   White Mug        38  2020-01-01 00:00       1.71   \n",
       "1     771155  SKU_1241   White Mug        18  2020-01-01 01:00      41.25   \n",
       "2     231932  SKU_1501  Headphones        49  2020-01-01 02:00      29.11   \n",
       "3     465838  SKU_1760   Desk Lamp        14  2020-01-01 03:00      76.68   \n",
       "4     359178  SKU_1386   USB Cable       -30  2020-01-01 04:00     -68.11   \n",
       "\n",
       "   CustomerID         Country  Discount  PaymentMethod  ShippingCost  \\\n",
       "0     37039.0       Australia  0.470000  Bank Transfer         10.79   \n",
       "1     19144.0           Spain  0.190000        paypall          9.51   \n",
       "2     50472.0         Germany  0.350000  Bank Transfer         23.03   \n",
       "3     96586.0     Netherlands  0.140000        paypall         11.08   \n",
       "4         NaN  United Kingdom  1.501433  Bank Transfer           NaN   \n",
       "\n",
       "      Category SalesChannel  ReturnStatus ShipmentProvider WarehouseLocation  \\\n",
       "0      Apparel     In-store  Not Returned              UPS            London   \n",
       "1  Electronics       Online  Not Returned              UPS              Rome   \n",
       "2  Electronics       Online      Returned              UPS            Berlin   \n",
       "3  Accessories       Online  Not Returned       Royal Mail              Rome   \n",
       "4  Electronics     In-store  Not Returned            FedEx               NaN   \n",
       "\n",
       "  OrderPriority  \n",
       "0        Medium  \n",
       "1        Medium  \n",
       "2          High  \n",
       "3           Low  \n",
       "4        Medium  "
      ]
     },
     "execution_count": 15,
     "metadata": {},
     "output_type": "execute_result"
    }
   ],
   "source": [
    "import pandas as pd\n",
    "import matplotlib.pyplot as plt\n",
    "import sqlite3\n",
    "\n",
    "df=pd.read_csv('online_sales_dataset.csv')\n",
    "df.head()"
   ]
  },
  {
   "cell_type": "code",
   "execution_count": 16,
   "id": "2f6bbb44-31ca-4da2-88e4-bf65d4a68add",
   "metadata": {},
   "outputs": [
    {
     "data": {
      "text/plain": [
       "(49782, 17)"
      ]
     },
     "execution_count": 16,
     "metadata": {},
     "output_type": "execute_result"
    }
   ],
   "source": [
    "df.shape"
   ]
  },
  {
   "cell_type": "code",
   "execution_count": 17,
   "id": "4502b7a6-705d-49ee-be2e-fd2d3e539037",
   "metadata": {},
   "outputs": [
    {
     "data": {
      "text/plain": [
       "0"
      ]
     },
     "execution_count": 17,
     "metadata": {},
     "output_type": "execute_result"
    }
   ],
   "source": [
    "df.duplicated().sum()"
   ]
  },
  {
   "cell_type": "code",
   "execution_count": 18,
   "id": "aac36e81-1170-4d2a-8fbe-c516b9276fb0",
   "metadata": {},
   "outputs": [
    {
     "data": {
      "text/plain": [
       "InvoiceNo               0\n",
       "StockCode               0\n",
       "Description             0\n",
       "Quantity                0\n",
       "InvoiceDate             0\n",
       "UnitPrice               0\n",
       "CustomerID           4978\n",
       "Country                 0\n",
       "Discount                0\n",
       "PaymentMethod           0\n",
       "ShippingCost         2489\n",
       "Category                0\n",
       "SalesChannel            0\n",
       "ReturnStatus            0\n",
       "ShipmentProvider        0\n",
       "WarehouseLocation    3485\n",
       "OrderPriority           0\n",
       "dtype: int64"
      ]
     },
     "execution_count": 18,
     "metadata": {},
     "output_type": "execute_result"
    }
   ],
   "source": [
    "df.isnull().sum()"
   ]
  },
  {
   "cell_type": "code",
   "execution_count": 19,
   "id": "6b53f1e5-6c1f-41e4-b4a3-ba6cb6fdef6f",
   "metadata": {},
   "outputs": [
    {
     "name": "stdout",
     "output_type": "stream",
     "text": [
      "<class 'pandas.core.frame.DataFrame'>\n",
      "RangeIndex: 49782 entries, 0 to 49781\n",
      "Data columns (total 17 columns):\n",
      " #   Column             Non-Null Count  Dtype  \n",
      "---  ------             --------------  -----  \n",
      " 0   InvoiceNo          49782 non-null  int64  \n",
      " 1   StockCode          49782 non-null  object \n",
      " 2   Description        49782 non-null  object \n",
      " 3   Quantity           49782 non-null  int64  \n",
      " 4   InvoiceDate        49782 non-null  object \n",
      " 5   UnitPrice          49782 non-null  float64\n",
      " 6   CustomerID         44804 non-null  float64\n",
      " 7   Country            49782 non-null  object \n",
      " 8   Discount           49782 non-null  float64\n",
      " 9   PaymentMethod      49782 non-null  object \n",
      " 10  ShippingCost       47293 non-null  float64\n",
      " 11  Category           49782 non-null  object \n",
      " 12  SalesChannel       49782 non-null  object \n",
      " 13  ReturnStatus       49782 non-null  object \n",
      " 14  ShipmentProvider   49782 non-null  object \n",
      " 15  WarehouseLocation  46297 non-null  object \n",
      " 16  OrderPriority      49782 non-null  object \n",
      "dtypes: float64(4), int64(2), object(11)\n",
      "memory usage: 6.5+ MB\n"
     ]
    }
   ],
   "source": [
    "df.info()"
   ]
  },
  {
   "cell_type": "code",
   "execution_count": 20,
   "id": "a42deac9-0434-4f18-b82a-a4c6df64c6d1",
   "metadata": {},
   "outputs": [],
   "source": [
    "df['ShippingCost']=df['ShippingCost'].fillna(0)"
   ]
  },
  {
   "cell_type": "markdown",
   "id": "f00f5126-2dd0-4e73-b736-a1e05a5f8f2d",
   "metadata": {},
   "source": [
    "replace the value from null to 0 in ShippingCost column"
   ]
  },
  {
   "cell_type": "code",
   "execution_count": 21,
   "id": "256169be-936e-4da6-863c-fe7160e3a21b",
   "metadata": {},
   "outputs": [
    {
     "data": {
      "text/plain": [
       "InvoiceNo               0\n",
       "StockCode               0\n",
       "Description             0\n",
       "Quantity                0\n",
       "InvoiceDate             0\n",
       "UnitPrice               0\n",
       "CustomerID           4978\n",
       "Country                 0\n",
       "Discount                0\n",
       "PaymentMethod           0\n",
       "ShippingCost            0\n",
       "Category                0\n",
       "SalesChannel            0\n",
       "ReturnStatus            0\n",
       "ShipmentProvider        0\n",
       "WarehouseLocation    3485\n",
       "OrderPriority           0\n",
       "dtype: int64"
      ]
     },
     "execution_count": 21,
     "metadata": {},
     "output_type": "execute_result"
    }
   ],
   "source": [
    "df.isnull().sum()"
   ]
  },
  {
   "cell_type": "code",
   "execution_count": 29,
   "id": "9ed596f0-5b9d-4d7a-a9af-6c62f12cbc81",
   "metadata": {},
   "outputs": [
    {
     "name": "stdout",
     "output_type": "stream",
     "text": [
      "     total_sum\n",
      "0  60142533.09\n"
     ]
    }
   ],
   "source": [
    "# Create SQLite DB in memory\n",
    "conn = sqlite3.connect(':memory:')\n",
    "\n",
    "# Write DataFrame to SQL table\n",
    "df.to_sql('my_table', conn, index=False, if_exists='replace')\n",
    "\n",
    "query='''\n",
    "select  sum(UnitPrice*Quantity) as total_sum from my_table\n",
    "'''\n",
    "df_sql=pd.read_sql_query(query,conn)\n",
    "print(df_sql)"
   ]
  },
  {
   "cell_type": "markdown",
   "id": "60614c4e-fafe-4192-bff5-959e8fdde465",
   "metadata": {},
   "source": [
    "that's the total sale \n"
   ]
  },
  {
   "cell_type": "code",
   "execution_count": 42,
   "id": "2f0325c2-926c-462f-9c3e-dd44771c150d",
   "metadata": {},
   "outputs": [],
   "source": [
    "df['InvoiceDate'] = pd.to_datetime(df['InvoiceDate'])\n"
   ]
  },
  {
   "cell_type": "markdown",
   "id": "84295b31-d82f-4949-b30d-85e9686836dd",
   "metadata": {},
   "source": [
    "converted InvoiceDate column from object to date and time "
   ]
  },
  {
   "cell_type": "code",
   "execution_count": 45,
   "id": "bbbb0098-53ec-41cb-99f2-5548793dee8d",
   "metadata": {},
   "outputs": [
    {
     "name": "stdout",
     "output_type": "stream",
     "text": [
      "      month\n",
      "0        01\n",
      "1        01\n",
      "2        01\n",
      "3        01\n",
      "4        01\n",
      "...     ...\n",
      "49777    09\n",
      "49778    09\n",
      "49779    09\n",
      "49780    09\n",
      "49781    09\n",
      "\n",
      "[49782 rows x 1 columns]\n"
     ]
    }
   ],
   "source": [
    "df.to_sql('my_table', conn, index=False, if_exists='replace')\n",
    "\n",
    "query = '''\n",
    "SELECT strftime('%m', InvoiceDate) AS month\n",
    "FROM my_table\n",
    "'''\n",
    "\n",
    "df_sql = pd.read_sql_query(query, conn)\n",
    "print(df_sql)\n"
   ]
  },
  {
   "cell_type": "markdown",
   "id": "c0852496-5172-4626-a7a5-7783385209d1",
   "metadata": {},
   "source": [
    "extracted month from date"
   ]
  },
  {
   "cell_type": "code",
   "execution_count": 48,
   "id": "d1fbcb03-ddbb-4659-b175-749b665b5360",
   "metadata": {},
   "outputs": [
    {
     "name": "stdout",
     "output_type": "stream",
     "text": [
      "   month  CustomerID    Country\n",
      "0     01     37039.0  Australia\n",
      "1     02     96337.0  Australia\n",
      "2     03     57652.0     Sweden\n",
      "3     04     79534.0     Sweden\n",
      "4     05     44302.0   Portugal\n",
      "5     06     77056.0      Italy\n",
      "6     07     54067.0      Italy\n",
      "7     08     58795.0     France\n",
      "8     09     65561.0      Italy\n",
      "9     10         NaN     Sweden\n",
      "10    11     56780.0      Italy\n",
      "11    12         NaN     Norway\n"
     ]
    }
   ],
   "source": [
    "df.to_sql('my_table', conn, index=False, if_exists='replace')\n",
    "\n",
    "query = '''\n",
    "SELECT strftime('%m', InvoiceDate) AS month,CustomerId,Country \n",
    "from my_table\n",
    "group by \n",
    "month\n",
    "'''\n",
    "\n",
    "df_sql = pd.read_sql_query(query, conn)\n",
    "print(df_sql)"
   ]
  },
  {
   "cell_type": "markdown",
   "id": "59467575-8e54-4761-9df6-d6411bfe887f",
   "metadata": {},
   "source": [
    "grouped the customer based on month"
   ]
  },
  {
   "cell_type": "code",
   "execution_count": 49,
   "id": "4fb792d1-f434-4465-9e50-232b97978f01",
   "metadata": {},
   "outputs": [
    {
     "name": "stdout",
     "output_type": "stream",
     "text": [
      "   count\n",
      "0  44804\n"
     ]
    }
   ],
   "source": [
    "query = \"SELECT  count(CustomerID ) as count FROM my_table \"\n",
    "result_df = pd.read_sql_query(query, conn)\n",
    "print(result_df)"
   ]
  },
  {
   "cell_type": "markdown",
   "id": "6db109e5-0a72-4a31-b201-81d2d9c5a3bf",
   "metadata": {},
   "source": [
    "there are 44804 customer who have ordered"
   ]
  },
  {
   "cell_type": "code",
   "execution_count": 50,
   "id": "f3267cc2-2d2e-4e91-8b67-94ac249921a3",
   "metadata": {},
   "outputs": [
    {
     "name": "stdout",
     "output_type": "stream",
     "text": [
      "   month  CustomerID    Country\n",
      "0     01     37039.0  Australia\n",
      "1     02     96337.0  Australia\n",
      "2     08     58795.0     France\n",
      "3     06     77056.0      Italy\n",
      "4     07     54067.0      Italy\n",
      "5     09     65561.0      Italy\n",
      "6     11     56780.0      Italy\n",
      "7     12         NaN     Norway\n",
      "8     05     44302.0   Portugal\n",
      "9     03     57652.0     Sweden\n",
      "10    04     79534.0     Sweden\n",
      "11    10         NaN     Sweden\n"
     ]
    }
   ],
   "source": [
    "df.to_sql('my_table', conn, index=False, if_exists='replace')\n",
    "\n",
    "query = '''\n",
    "SELECT strftime('%m', InvoiceDate) AS month,CustomerId,Country \n",
    "from my_table\n",
    "group by \n",
    "month\n",
    "order by Country\n",
    "'''\n",
    "\n",
    "df_sql = pd.read_sql_query(query, conn)\n",
    "print(df_sql)"
   ]
  },
  {
   "cell_type": "markdown",
   "id": "a82d7b33-d833-449f-a1e5-8e3f13f2c5e4",
   "metadata": {},
   "source": [
    "used order by aggregate "
   ]
  },
  {
   "cell_type": "code",
   "execution_count": null,
   "id": "6e538016-9d24-4d6d-8eb7-50bbfddf0044",
   "metadata": {},
   "outputs": [],
   "source": []
  }
 ],
 "metadata": {
  "kernelspec": {
   "display_name": "Python 3 (ipykernel)",
   "language": "python",
   "name": "python3"
  },
  "language_info": {
   "codemirror_mode": {
    "name": "ipython",
    "version": 3
   },
   "file_extension": ".py",
   "mimetype": "text/x-python",
   "name": "python",
   "nbconvert_exporter": "python",
   "pygments_lexer": "ipython3",
   "version": "3.12.7"
  }
 },
 "nbformat": 4,
 "nbformat_minor": 5
}
